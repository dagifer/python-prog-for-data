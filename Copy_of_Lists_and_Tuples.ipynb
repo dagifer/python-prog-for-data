{
  "nbformat": 4,
  "nbformat_minor": 0,
  "metadata": {
    "colab": {
      "provenance": [],
      "include_colab_link": true
    },
    "kernelspec": {
      "name": "python3",
      "display_name": "Python 3"
    },
    "language_info": {
      "name": "python"
    }
  },
  "cells": [
    {
      "cell_type": "markdown",
      "metadata": {
        "id": "view-in-github",
        "colab_type": "text"
      },
      "source": [
        "<a href=\"https://colab.research.google.com/github/dagifer/python-prog-for-data/blob/main/Copy_of_Lists_and_Tuples.ipynb\" target=\"_parent\"><img src=\"https://colab.research.google.com/assets/colab-badge.svg\" alt=\"Open In Colab\"/></a>"
      ]
    },
    {
      "cell_type": "markdown",
      "metadata": {
        "id": "Z-M-RCWATK71"
      },
      "source": [
        "# Lists and tuples\n",
        "\n",
        "Often we need to store a number of single items of data together so that they can be processed together. This might be because all the data refers to one person (e.g. name, age, gender, etc) OR it might be because we have a set of data (e.g. all the items that should be displayed in a drop down list, such as all the years from this year back to 100 years ago so that someone can select their year of birth)\n",
        "\n",
        "Python has a range of data structures available including:\n",
        "*   lists  \n",
        "*   tuples  \n",
        "*   dictionaries  \n",
        "*   sets\n",
        "\n",
        "This worksheet looks at lists and tuples.\n",
        "\n",
        "## List\n",
        "A list is a set of related, individual data objects, that are indexed and can be processed as a whole, as subsets or as individual items.  Lists are stored, essentially, as contiguous items in memory so that access can be as quick as possible.  However, they are mutable (they can be changed after they are created and stored) and so those mechanisms need to include extra functionality to deal with changing list sizes.\n",
        "\n",
        "## Tuple\n",
        "Essentially the same as a list but it is immutable.  Once it has been created it can't be changed.  It is stored in memory as contiguous items, with the size required being fixed right from the start.  This makes it faster to access.\n",
        "\n",
        "The code below will create two lists and a tuple.\n",
        "*   the first list contains 1000 random numbers between 1 and 100\n",
        "*   the second list is of random length (up to 5000) and each item is one of the 9 characteristics that are protected under the Equality Act in the UK.\n",
        "*   the tuple contains the 9 protected characteristics\n",
        "\n",
        "Before you start the exercises, run the code below.  It will generate the lists and tuple so that you can use them in the exercises.  If you need to recreate the lists again (because you have changed them and need to work on the originals, just run this cell again).\n",
        "\n",
        "***Note:***  *a list variable contains a reference to the start of the list in memory, rather than storing the list itself.  This means that if you assign the list to another variable (to make a copy), it will only copy across the reference.  If you change the copy, you change the original list.*\n",
        "\n",
        "*If you need to make a copy of the list you will need to use a loop to create a new list and copy all items across.*"
      ]
    },
    {
      "cell_type": "code",
      "metadata": {
        "id": "BDRckXeQXFMT"
      },
      "source": [
        "from random import randint, choice\n",
        "\n",
        "def get_num_list():\n",
        "  num_list = [randint(1,100) for n in range(1000)]\n",
        "  return num_list\n",
        "\n",
        "def get_protected_characteristics():\n",
        "  characteristics_tuple = ('age','disability','gender reassignment','marriage and civil partnership','pregnancy and maternity','race','religion or belief','sex','sexual orientation')\n",
        "  return characteristics_tuple\n",
        "\n",
        "def get_protected_characteristic_list(protected_characteristics):\n",
        "  char_list = [choice(protected_characteristics) for ch in range(randint(1,5000))]\n",
        "  return char_list\n",
        "\n",
        "nums = get_num_list()\n",
        "protected_characteristics = get_protected_characteristics()\n",
        "characteristics = get_protected_characteristic_list(protected_characteristics)"
      ],
      "execution_count": 12,
      "outputs": []
    },
    {
      "cell_type": "markdown",
      "metadata": {
        "id": "xXT38-4ZV45n"
      },
      "source": [
        "## The exercises below will use the lists:  \n",
        "*   **nums** (a list of between 1 and 1000 random numbers, each number is between 0 and 1000)\n",
        "*   **characteristics** (a list of 5000 random protected_characteristics)\n",
        "\n",
        "and the tuple:\n",
        "*  **protected_characteristics** (a set of the 9 protected characteristics identified in the Equality Act)\n",
        "\n",
        "## You can run the cell above any number of times to generate new lists."
      ]
    },
    {
      "cell_type": "markdown",
      "metadata": {
        "id": "Ft0dXl7fUuaK"
      },
      "source": [
        "---\n",
        "### Exercise 1 - list head, tail and shape\n",
        "\n",
        "Write a function, **describe_list()** which will:\n",
        "*  print the length of the list `nums`\n",
        "*  print the first 10 items in `nums`  \n",
        "*  print the last 5 items in `nums`"
      ]
    },
    {
      "cell_type": "code",
      "metadata": {
        "id": "jUcZD7mmTJdA",
        "colab": {
          "base_uri": "https://localhost:8080/"
        },
        "outputId": "64c94ff1-dea5-40f5-e0e8-05c084311a42"
      },
      "source": [
        "from random import randint\n",
        "def describe_list(nums):\n",
        "    print(nums[:10])\n",
        "    print(nums[-5:])\n",
        "    print(len(nums))\n",
        "\n",
        "\n",
        "describe_list(nums)\n",
        "print(nums)\n",
        "print(protected_characteristics)\n",
        "print(characteristics)\n"
      ],
      "execution_count": 2,
      "outputs": [
        {
          "output_type": "stream",
          "name": "stdout",
          "text": [
            "[95, 24, 15, 31, 52, 80, 64, 24, 94, 25]\n",
            "[89, 100, 94, 96, 11]\n",
            "1000\n",
            "[95, 24, 15, 31, 52, 80, 64, 24, 94, 25, 91, 7, 18, 94, 53, 62, 88, 75, 25, 31, 17, 46, 97, 3, 20, 76, 98, 45, 52, 35, 69, 11, 18, 76, 4, 89, 27, 60, 57, 63, 69, 13, 75, 27, 28, 80, 5, 95, 40, 33, 22, 51, 11, 73, 23, 49, 25, 56, 76, 99, 72, 23, 59, 93, 70, 2, 55, 56, 24, 93, 48, 63, 56, 74, 60, 15, 37, 25, 88, 43, 98, 49, 79, 13, 53, 24, 85, 32, 3, 39, 82, 28, 49, 22, 76, 96, 54, 40, 75, 52, 100, 5, 19, 17, 47, 11, 16, 93, 61, 63, 92, 68, 15, 22, 90, 39, 100, 75, 7, 68, 41, 19, 5, 29, 8, 40, 85, 56, 25, 69, 61, 2, 15, 37, 36, 94, 8, 2, 86, 27, 36, 80, 30, 98, 76, 66, 82, 66, 85, 18, 99, 46, 3, 32, 54, 51, 35, 95, 67, 93, 74, 13, 41, 55, 67, 14, 1, 33, 14, 61, 9, 64, 3, 76, 46, 68, 48, 86, 26, 94, 96, 94, 88, 81, 41, 19, 67, 65, 38, 63, 26, 77, 99, 59, 26, 71, 67, 72, 50, 10, 27, 65, 63, 28, 69, 14, 99, 73, 22, 32, 63, 63, 63, 35, 87, 18, 81, 28, 47, 7, 81, 24, 35, 15, 30, 53, 70, 9, 97, 21, 49, 13, 54, 89, 18, 92, 95, 15, 25, 10, 69, 77, 99, 44, 65, 32, 14, 51, 77, 40, 30, 12, 3, 79, 86, 37, 22, 80, 88, 65, 19, 36, 80, 20, 96, 8, 77, 97, 96, 30, 77, 16, 9, 90, 40, 96, 84, 30, 2, 65, 20, 26, 61, 29, 99, 75, 54, 63, 85, 43, 8, 48, 62, 2, 85, 40, 83, 44, 53, 64, 11, 23, 2, 72, 53, 89, 12, 8, 33, 96, 29, 22, 12, 87, 73, 100, 81, 18, 18, 62, 76, 77, 62, 1, 33, 38, 48, 79, 82, 12, 93, 96, 42, 6, 52, 60, 36, 2, 16, 57, 21, 67, 8, 29, 25, 44, 46, 98, 35, 100, 72, 48, 89, 47, 4, 80, 73, 33, 59, 8, 25, 90, 10, 73, 93, 80, 81, 41, 63, 71, 4, 45, 12, 62, 60, 76, 35, 3, 68, 23, 88, 66, 72, 53, 71, 97, 98, 3, 71, 43, 13, 61, 37, 15, 11, 66, 9, 84, 62, 77, 52, 1, 27, 20, 78, 85, 5, 79, 34, 29, 75, 63, 36, 15, 85, 53, 4, 65, 21, 7, 86, 63, 75, 76, 87, 90, 75, 64, 4, 64, 24, 99, 55, 81, 59, 41, 43, 47, 86, 38, 4, 93, 16, 99, 58, 72, 71, 28, 22, 76, 96, 24, 57, 17, 3, 31, 45, 20, 53, 100, 79, 9, 99, 59, 90, 13, 12, 87, 49, 10, 87, 73, 24, 68, 29, 49, 52, 82, 42, 40, 52, 3, 78, 40, 38, 30, 21, 17, 8, 10, 86, 51, 25, 97, 70, 64, 26, 55, 55, 89, 28, 11, 90, 72, 57, 32, 83, 18, 98, 35, 55, 71, 45, 13, 90, 13, 17, 58, 5, 24, 1, 23, 76, 72, 99, 12, 81, 46, 88, 15, 5, 65, 96, 30, 34, 64, 24, 61, 56, 21, 74, 96, 68, 66, 90, 37, 16, 39, 19, 28, 11, 80, 42, 67, 49, 60, 30, 22, 32, 45, 6, 90, 24, 95, 73, 3, 15, 63, 80, 56, 89, 65, 38, 38, 59, 76, 36, 31, 90, 64, 3, 18, 71, 76, 17, 95, 93, 44, 83, 39, 44, 15, 2, 1, 56, 70, 63, 48, 71, 87, 48, 46, 87, 17, 4, 96, 81, 62, 54, 14, 85, 91, 80, 50, 4, 98, 42, 92, 3, 7, 70, 47, 9, 59, 82, 32, 93, 38, 87, 44, 30, 87, 5, 14, 37, 12, 42, 49, 33, 39, 50, 100, 10, 60, 81, 69, 97, 15, 42, 43, 76, 57, 5, 90, 29, 99, 58, 77, 31, 13, 4, 1, 17, 92, 58, 54, 29, 100, 14, 49, 38, 77, 33, 94, 44, 57, 24, 56, 40, 96, 8, 26, 35, 98, 79, 93, 96, 61, 100, 95, 94, 35, 29, 48, 22, 57, 88, 74, 25, 5, 17, 84, 99, 74, 33, 4, 70, 8, 90, 98, 78, 67, 72, 30, 82, 81, 47, 33, 43, 21, 95, 16, 51, 92, 16, 39, 12, 36, 13, 79, 90, 87, 13, 2, 83, 59, 96, 73, 25, 95, 67, 16, 95, 26, 44, 22, 85, 43, 55, 69, 71, 39, 57, 15, 29, 25, 62, 52, 98, 75, 73, 14, 1, 75, 24, 21, 26, 7, 46, 97, 90, 78, 95, 57, 77, 3, 34, 89, 28, 52, 81, 88, 66, 41, 11, 56, 35, 51, 91, 8, 64, 7, 24, 19, 24, 30, 58, 9, 53, 46, 87, 92, 31, 40, 15, 13, 32, 4, 83, 48, 27, 92, 2, 24, 88, 12, 15, 23, 90, 63, 76, 25, 25, 3, 9, 49, 11, 3, 29, 3, 24, 68, 79, 33, 50, 2, 26, 28, 99, 7, 87, 69, 14, 57, 19, 99, 3, 50, 61, 8, 90, 82, 68, 1, 85, 57, 7, 70, 26, 5, 41, 14, 92, 9, 73, 88, 46, 32, 81, 25, 64, 56, 71, 74, 58, 44, 73, 97, 47, 66, 38, 8, 4, 37, 94, 53, 32, 99, 3, 96, 50, 41, 58, 98, 55, 46, 100, 10, 89, 80, 13, 79, 55, 27, 4, 31, 96, 8, 90, 50, 37, 24, 92, 64, 39, 82, 27, 41, 61, 92, 7, 76, 98, 2, 51, 26, 98, 66, 59, 30, 66, 60, 53, 90, 70, 56, 29, 81, 33, 30, 58, 65, 17, 45, 28, 75, 88, 10, 71, 9, 95, 100, 65, 69, 18, 10, 8, 82, 42, 8, 62, 55, 22, 3, 27, 59, 10, 44, 78, 82, 11, 22, 31, 71, 49, 73, 85, 65, 60, 68, 69, 59, 56, 29, 82, 54, 33, 88, 78, 31, 73, 80, 66, 40, 17, 89, 100, 94, 96, 11]\n",
            "('age', 'disability', 'gender reassignment', 'marriage and civil partnership', 'pregnancy and maternity', 'race', 'religion or belief', 'sex', 'sexual orientation')\n",
            "['marriage and civil partnership', 'sexual orientation', 'sexual orientation', 'sex', 'gender reassignment', 'religion or belief', 'disability', 'religion or belief', 'sex', 'age', 'gender reassignment', 'marriage and civil partnership', 'religion or belief', 'religion or belief', 'sexual orientation', 'age', 'marriage and civil partnership', 'race', 'sexual orientation', 'age', 'gender reassignment', 'sex', 'religion or belief', 'marriage and civil partnership', 'age', 'gender reassignment', 'religion or belief', 'marriage and civil partnership', 'sex', 'sex', 'sexual orientation', 'sexual orientation', 'disability', 'sexual orientation', 'race', 'pregnancy and maternity', 'race', 'pregnancy and maternity', 'pregnancy and maternity', 'marriage and civil partnership', 'marriage and civil partnership', 'marriage and civil partnership', 'disability', 'age', 'race', 'gender reassignment', 'marriage and civil partnership', 'gender reassignment', 'gender reassignment', 'sex', 'disability', 'race', 'religion or belief', 'marriage and civil partnership', 'pregnancy and maternity', 'disability', 'marriage and civil partnership', 'age', 'sex', 'religion or belief', 'pregnancy and maternity', 'disability', 'pregnancy and maternity', 'religion or belief', 'sex', 'age', 'sexual orientation', 'sex', 'sexual orientation', 'marriage and civil partnership', 'sexual orientation', 'pregnancy and maternity', 'marriage and civil partnership', 'sexual orientation', 'race', 'gender reassignment', 'sexual orientation', 'marriage and civil partnership', 'gender reassignment', 'sex', 'religion or belief', 'religion or belief', 'sex', 'sexual orientation', 'marriage and civil partnership', 'marriage and civil partnership', 'race', 'religion or belief', 'sexual orientation', 'gender reassignment', 'disability', 'age', 'pregnancy and maternity', 'religion or belief', 'race', 'pregnancy and maternity', 'marriage and civil partnership', 'religion or belief', 'religion or belief', 'pregnancy and maternity', 'pregnancy and maternity', 'religion or belief', 'religion or belief', 'sex', 'race', 'age', 'race', 'gender reassignment', 'age', 'race', 'sex', 'disability', 'marriage and civil partnership', 'pregnancy and maternity', 'religion or belief', 'age', 'pregnancy and maternity', 'religion or belief', 'religion or belief', 'marriage and civil partnership', 'pregnancy and maternity', 'sex', 'religion or belief', 'marriage and civil partnership', 'race', 'pregnancy and maternity', 'age', 'pregnancy and maternity', 'pregnancy and maternity', 'pregnancy and maternity', 'gender reassignment', 'sexual orientation', 'sex', 'race', 'gender reassignment', 'disability', 'sex', 'race', 'pregnancy and maternity', 'age', 'race', 'religion or belief', 'race', 'marriage and civil partnership', 'religion or belief', 'disability', 'sexual orientation', 'sex', 'sexual orientation', 'marriage and civil partnership', 'gender reassignment', 'gender reassignment', 'race', 'age', 'disability', 'race', 'gender reassignment', 'pregnancy and maternity', 'sexual orientation', 'marriage and civil partnership', 'race', 'religion or belief', 'marriage and civil partnership', 'sexual orientation', 'age', 'pregnancy and maternity', 'marriage and civil partnership', 'pregnancy and maternity', 'marriage and civil partnership', 'age', 'sexual orientation', 'age', 'religion or belief', 'pregnancy and maternity', 'race', 'age', 'age', 'marriage and civil partnership', 'sex', 'marriage and civil partnership', 'age', 'disability', 'pregnancy and maternity', 'age', 'age', 'sexual orientation', 'marriage and civil partnership', 'gender reassignment', 'religion or belief', 'gender reassignment', 'gender reassignment', 'disability', 'disability', 'disability', 'sex', 'gender reassignment', 'religion or belief', 'marriage and civil partnership', 'age', 'race', 'religion or belief', 'marriage and civil partnership', 'marriage and civil partnership', 'age', 'sexual orientation', 'sexual orientation', 'pregnancy and maternity', 'religion or belief', 'sex', 'sexual orientation', 'age', 'race', 'marriage and civil partnership', 'gender reassignment', 'race', 'race', 'race', 'gender reassignment', 'sex', 'sex', 'pregnancy and maternity', 'race', 'sex', 'pregnancy and maternity', 'pregnancy and maternity', 'age', 'religion or belief', 'religion or belief', 'sexual orientation', 'religion or belief', 'sexual orientation', 'age', 'race', 'race', 'marriage and civil partnership', 'sexual orientation', 'age', 'disability', 'sexual orientation', 'sex', 'marriage and civil partnership', 'pregnancy and maternity', 'pregnancy and maternity', 'age', 'race', 'gender reassignment', 'sex', 'disability', 'gender reassignment', 'pregnancy and maternity', 'age', 'pregnancy and maternity', 'marriage and civil partnership', 'disability', 'sexual orientation', 'disability', 'pregnancy and maternity', 'race', 'pregnancy and maternity', 'marriage and civil partnership', 'gender reassignment', 'marriage and civil partnership', 'religion or belief', 'sexual orientation', 'religion or belief', 'marriage and civil partnership', 'gender reassignment', 'religion or belief', 'sex', 'pregnancy and maternity', 'disability', 'sex', 'disability', 'race', 'pregnancy and maternity', 'disability', 'gender reassignment', 'gender reassignment', 'sex', 'sexual orientation', 'marriage and civil partnership', 'pregnancy and maternity', 'disability', 'religion or belief', 'race', 'marriage and civil partnership', 'disability', 'gender reassignment', 'marriage and civil partnership', 'religion or belief', 'sexual orientation', 'sexual orientation', 'marriage and civil partnership', 'age', 'disability', 'pregnancy and maternity', 'sex', 'age', 'pregnancy and maternity', 'sex', 'pregnancy and maternity', 'disability', 'age', 'race', 'gender reassignment', 'religion or belief', 'sexual orientation', 'gender reassignment', 'disability', 'sex', 'age', 'age', 'sex', 'disability', 'gender reassignment', 'sexual orientation', 'pregnancy and maternity', 'pregnancy and maternity', 'religion or belief', 'disability', 'disability', 'religion or belief', 'sex', 'sex', 'disability', 'disability', 'disability', 'pregnancy and maternity', 'gender reassignment', 'race', 'pregnancy and maternity', 'disability', 'gender reassignment', 'sex', 'sexual orientation', 'gender reassignment', 'sexual orientation', 'religion or belief', 'disability', 'religion or belief', 'religion or belief', 'sexual orientation', 'age', 'disability', 'gender reassignment', 'marriage and civil partnership', 'race', 'sex', 'pregnancy and maternity', 'race', 'gender reassignment', 'disability', 'pregnancy and maternity', 'sex', 'marriage and civil partnership', 'sexual orientation', 'sexual orientation', 'age', 'sexual orientation', 'disability', 'pregnancy and maternity', 'disability', 'marriage and civil partnership', 'disability', 'religion or belief', 'marriage and civil partnership', 'religion or belief', 'pregnancy and maternity', 'age', 'marriage and civil partnership', 'sexual orientation', 'disability', 'pregnancy and maternity', 'pregnancy and maternity', 'religion or belief', 'sex', 'sexual orientation', 'religion or belief', 'disability', 'pregnancy and maternity', 'disability', 'pregnancy and maternity', 'race', 'religion or belief', 'race', 'marriage and civil partnership', 'religion or belief', 'religion or belief', 'gender reassignment', 'religion or belief', 'sexual orientation', 'age', 'disability', 'sexual orientation', 'pregnancy and maternity', 'marriage and civil partnership', 'gender reassignment', 'marriage and civil partnership', 'marriage and civil partnership', 'race', 'pregnancy and maternity', 'disability', 'age', 'disability', 'sex', 'marriage and civil partnership', 'sex', 'race', 'marriage and civil partnership', 'age', 'gender reassignment', 'gender reassignment', 'disability', 'disability', 'sex', 'marriage and civil partnership', 'sex', 'race', 'age', 'sexual orientation', 'sex', 'sexual orientation', 'age', 'age', 'pregnancy and maternity', 'religion or belief', 'religion or belief', 'age', 'sex', 'race', 'religion or belief', 'gender reassignment', 'age', 'pregnancy and maternity', 'sex', 'race', 'sex', 'sexual orientation', 'disability', 'religion or belief', 'sex', 'marriage and civil partnership', 'pregnancy and maternity', 'disability', 'marriage and civil partnership', 'disability', 'race', 'gender reassignment', 'sexual orientation', 'disability', 'disability', 'disability', 'pregnancy and maternity', 'age', 'age', 'race', 'gender reassignment', 'age', 'age', 'religion or belief', 'marriage and civil partnership', 'disability', 'pregnancy and maternity', 'disability', 'age', 'age', 'disability', 'age', 'race', 'marriage and civil partnership', 'religion or belief', 'religion or belief', 'marriage and civil partnership', 'sex', 'gender reassignment', 'pregnancy and maternity', 'gender reassignment', 'sexual orientation', 'sex', 'sex', 'gender reassignment', 'sexual orientation', 'race', 'gender reassignment', 'age', 'marriage and civil partnership', 'religion or belief', 'disability', 'race', 'sex', 'age', 'age', 'sex', 'pregnancy and maternity', 'disability', 'pregnancy and maternity', 'age', 'age', 'sexual orientation', 'age', 'disability', 'age', 'religion or belief', 'race', 'race', 'age', 'sexual orientation', 'race', 'religion or belief', 'gender reassignment', 'sex', 'gender reassignment', 'gender reassignment', 'sex', 'religion or belief', 'age', 'gender reassignment', 'religion or belief', 'religion or belief', 'gender reassignment', 'marriage and civil partnership', 'marriage and civil partnership', 'gender reassignment', 'pregnancy and maternity', 'marriage and civil partnership', 'marriage and civil partnership', 'marriage and civil partnership', 'marriage and civil partnership', 'disability', 'race', 'pregnancy and maternity', 'religion or belief', 'marriage and civil partnership', 'race', 'race', 'religion or belief', 'age', 'pregnancy and maternity', 'gender reassignment', 'religion or belief', 'marriage and civil partnership', 'disability', 'gender reassignment', 'sexual orientation', 'sex', 'sexual orientation', 'sexual orientation', 'sexual orientation', 'sex', 'marriage and civil partnership', 'disability', 'religion or belief', 'race', 'gender reassignment', 'age', 'race', 'age', 'sex', 'marriage and civil partnership', 'sex', 'age', 'religion or belief', 'marriage and civil partnership', 'sexual orientation', 'disability', 'pregnancy and maternity', 'gender reassignment', 'age', 'race', 'marriage and civil partnership', 'race', 'pregnancy and maternity', 'pregnancy and maternity', 'sexual orientation', 'pregnancy and maternity', 'age', 'religion or belief', 'religion or belief', 'religion or belief', 'religion or belief', 'marriage and civil partnership', 'age', 'race', 'marriage and civil partnership', 'gender reassignment', 'marriage and civil partnership', 'pregnancy and maternity', 'gender reassignment', 'religion or belief', 'disability', 'religion or belief', 'gender reassignment', 'race', 'sex', 'pregnancy and maternity', 'age', 'sex', 'disability', 'sexual orientation', 'sexual orientation', 'race', 'religion or belief', 'religion or belief', 'religion or belief', 'sexual orientation', 'religion or belief', 'sexual orientation', 'disability', 'sexual orientation', 'sexual orientation', 'marriage and civil partnership', 'sex', 'disability', 'age', 'sexual orientation', 'gender reassignment', 'religion or belief', 'sexual orientation', 'sexual orientation', 'age', 'race', 'disability', 'marriage and civil partnership', 'sexual orientation', 'disability', 'age', 'religion or belief', 'sex', 'gender reassignment', 'sexual orientation', 'age', 'age', 'religion or belief', 'pregnancy and maternity', 'religion or belief', 'sexual orientation', 'marriage and civil partnership', 'marriage and civil partnership', 'sexual orientation', 'sexual orientation', 'religion or belief', 'gender reassignment', 'pregnancy and maternity', 'gender reassignment', 'marriage and civil partnership', 'religion or belief', 'gender reassignment', 'age', 'gender reassignment', 'age', 'gender reassignment', 'marriage and civil partnership', 'age', 'religion or belief', 'gender reassignment', 'age', 'disability', 'religion or belief', 'religion or belief', 'disability', 'marriage and civil partnership', 'marriage and civil partnership', 'sexual orientation', 'race', 'sexual orientation', 'age', 'sexual orientation', 'sexual orientation', 'sex', 'age', 'pregnancy and maternity', 'marriage and civil partnership', 'pregnancy and maternity', 'sex', 'age', 'gender reassignment', 'race', 'sex', 'gender reassignment', 'gender reassignment', 'sexual orientation', 'pregnancy and maternity', 'sex', 'pregnancy and maternity', 'sexual orientation', 'age', 'pregnancy and maternity', 'gender reassignment', 'religion or belief', 'marriage and civil partnership', 'sexual orientation', 'religion or belief', 'pregnancy and maternity', 'marriage and civil partnership', 'age', 'pregnancy and maternity', 'marriage and civil partnership', 'disability', 'marriage and civil partnership', 'pregnancy and maternity', 'sexual orientation', 'marriage and civil partnership', 'age', 'marriage and civil partnership', 'marriage and civil partnership', 'race', 'marriage and civil partnership', 'race', 'gender reassignment', 'marriage and civil partnership', 'age', 'age', 'race', 'marriage and civil partnership', 'age', 'sex', 'religion or belief', 'gender reassignment', 'gender reassignment', 'disability', 'pregnancy and maternity', 'disability', 'marriage and civil partnership', 'sexual orientation', 'pregnancy and maternity', 'religion or belief', 'marriage and civil partnership', 'pregnancy and maternity', 'race', 'gender reassignment', 'age', 'gender reassignment', 'marriage and civil partnership', 'sex', 'pregnancy and maternity', 'sexual orientation', 'gender reassignment', 'sex', 'age', 'race', 'marriage and civil partnership', 'disability', 'pregnancy and maternity', 'sexual orientation', 'pregnancy and maternity', 'sex', 'religion or belief', 'disability', 'sexual orientation', 'gender reassignment', 'religion or belief', 'disability', 'religion or belief', 'gender reassignment', 'disability', 'pregnancy and maternity', 'sex', 'marriage and civil partnership', 'marriage and civil partnership', 'pregnancy and maternity', 'marriage and civil partnership', 'sexual orientation', 'religion or belief', 'religion or belief', 'religion or belief', 'marriage and civil partnership', 'sexual orientation', 'gender reassignment', 'sexual orientation', 'sexual orientation', 'pregnancy and maternity', 'marriage and civil partnership', 'race', 'religion or belief', 'age', 'age', 'age', 'age', 'age', 'sexual orientation', 'religion or belief', 'age', 'gender reassignment', 'marriage and civil partnership', 'sex', 'sex', 'gender reassignment', 'disability', 'race', 'religion or belief', 'age', 'religion or belief', 'pregnancy and maternity', 'sex', 'pregnancy and maternity', 'pregnancy and maternity', 'disability', 'gender reassignment', 'sexual orientation', 'sex', 'sexual orientation', 'age', 'age', 'pregnancy and maternity', 'sex', 'age', 'age', 'marriage and civil partnership', 'religion or belief', 'religion or belief', 'race', 'race', 'marriage and civil partnership', 'age', 'religion or belief', 'age', 'sex', 'marriage and civil partnership', 'race', 'disability', 'age', 'sexual orientation', 'sex', 'sexual orientation', 'sex', 'disability', 'sexual orientation', 'gender reassignment', 'religion or belief', 'age', 'race', 'pregnancy and maternity', 'gender reassignment', 'disability', 'race', 'gender reassignment', 'disability', 'sexual orientation', 'marriage and civil partnership', 'race', 'disability', 'sexual orientation', 'age', 'age', 'age', 'marriage and civil partnership', 'race', 'age', 'gender reassignment', 'disability', 'disability', 'sex', 'disability', 'disability', 'disability', 'pregnancy and maternity', 'age', 'sex', 'sex', 'age', 'marriage and civil partnership', 'pregnancy and maternity', 'sexual orientation', 'sex', 'age', 'disability', 'sexual orientation', 'sex', 'religion or belief', 'race', 'marriage and civil partnership', 'disability', 'age', 'religion or belief', 'religion or belief', 'religion or belief', 'pregnancy and maternity', 'sexual orientation', 'sexual orientation', 'religion or belief', 'disability', 'race', 'religion or belief', 'sexual orientation', 'marriage and civil partnership', 'marriage and civil partnership', 'race', 'pregnancy and maternity', 'sex', 'pregnancy and maternity', 'pregnancy and maternity', 'pregnancy and maternity', 'pregnancy and maternity', 'gender reassignment', 'gender reassignment', 'sexual orientation', 'age', 'marriage and civil partnership', 'pregnancy and maternity', 'gender reassignment', 'religion or belief', 'religion or belief', 'age', 'sexual orientation', 'age', 'religion or belief', 'disability', 'religion or belief', 'gender reassignment', 'gender reassignment', 'race', 'pregnancy and maternity', 'race', 'age', 'disability', 'race', 'age', 'pregnancy and maternity', 'gender reassignment', 'pregnancy and maternity', 'sex', 'race', 'religion or belief', 'race', 'gender reassignment', 'sexual orientation', 'sexual orientation', 'marriage and civil partnership', 'age', 'disability', 'sex', 'race', 'age', 'disability', 'religion or belief', 'religion or belief', 'race', 'marriage and civil partnership', 'gender reassignment', 'disability', 'sex', 'race', 'race', 'pregnancy and maternity', 'marriage and civil partnership', 'disability', 'age', 'gender reassignment', 'marriage and civil partnership', 'race', 'age', 'age', 'age', 'age', 'pregnancy and maternity', 'sexual orientation', 'sexual orientation', 'sexual orientation', 'disability', 'age', 'sexual orientation', 'age', 'gender reassignment', 'disability', 'race', 'sex', 'sex', 'age', 'sex', 'religion or belief', 'age', 'marriage and civil partnership', 'sexual orientation', 'sex', 'religion or belief', 'pregnancy and maternity', 'age', 'marriage and civil partnership', 'marriage and civil partnership', 'sexual orientation', 'disability', 'race', 'sex', 'pregnancy and maternity', 'sexual orientation', 'sex', 'race', 'pregnancy and maternity', 'pregnancy and maternity', 'disability', 'gender reassignment', 'race', 'marriage and civil partnership', 'religion or belief', 'marriage and civil partnership', 'pregnancy and maternity', 'gender reassignment', 'marriage and civil partnership', 'marriage and civil partnership', 'pregnancy and maternity', 'marriage and civil partnership', 'age', 'disability', 'sex', 'gender reassignment', 'disability', 'sexual orientation', 'marriage and civil partnership', 'marriage and civil partnership', 'disability', 'disability', 'gender reassignment', 'pregnancy and maternity', 'race', 'gender reassignment', 'age', 'sex', 'sexual orientation', 'race', 'sex', 'pregnancy and maternity', 'pregnancy and maternity', 'disability', 'age', 'pregnancy and maternity', 'disability', 'disability', 'gender reassignment', 'gender reassignment', 'sex', 'race', 'race', 'pregnancy and maternity', 'religion or belief', 'pregnancy and maternity', 'race', 'disability', 'religion or belief', 'race', 'disability', 'pregnancy and maternity', 'disability', 'age', 'marriage and civil partnership', 'age', 'age', 'sex', 'race', 'religion or belief', 'disability', 'race', 'race', 'sexual orientation', 'gender reassignment', 'religion or belief', 'religion or belief', 'race', 'race', 'marriage and civil partnership', 'gender reassignment', 'age', 'race', 'pregnancy and maternity', 'gender reassignment', 'religion or belief', 'age', 'sex', 'age', 'age', 'pregnancy and maternity', 'sexual orientation', 'sex', 'disability', 'sex', 'marriage and civil partnership', 'religion or belief', 'marriage and civil partnership', 'sex', 'religion or belief', 'sex', 'sexual orientation', 'race', 'gender reassignment', 'pregnancy and maternity', 'pregnancy and maternity', 'age', 'gender reassignment', 'gender reassignment', 'marriage and civil partnership', 'marriage and civil partnership', 'disability', 'sex', 'pregnancy and maternity', 'religion or belief', 'marriage and civil partnership', 'age', 'gender reassignment', 'religion or belief', 'race', 'race', 'religion or belief', 'age', 'age', 'age', 'sex', 'religion or belief', 'disability', 'marriage and civil partnership', 'age', 'religion or belief', 'pregnancy and maternity', 'disability', 'race', 'race', 'race', 'sex', 'disability', 'disability', 'pregnancy and maternity', 'sexual orientation', 'gender reassignment', 'race', 'pregnancy and maternity', 'religion or belief', 'gender reassignment', 'religion or belief', 'pregnancy and maternity', 'religion or belief', 'gender reassignment', 'sexual orientation', 'sex', 'disability', 'race', 'race', 'religion or belief', 'disability', 'race', 'religion or belief', 'disability', 'sex', 'race', 'race', 'age', 'gender reassignment', 'sexual orientation', 'age', 'race', 'sexual orientation', 'race', 'age', 'marriage and civil partnership', 'religion or belief', 'sexual orientation', 'sexual orientation', 'age', 'marriage and civil partnership', 'sex', 'sex', 'disability', 'race', 'marriage and civil partnership', 'gender reassignment', 'sex', 'disability', 'pregnancy and maternity', 'disability', 'pregnancy and maternity', 'pregnancy and maternity', 'sex', 'marriage and civil partnership', 'sex', 'sexual orientation', 'sex', 'gender reassignment', 'race', 'gender reassignment', 'race', 'age', 'sexual orientation', 'gender reassignment', 'marriage and civil partnership', 'sex', 'disability', 'sex', 'race', 'gender reassignment', 'religion or belief', 'sexual orientation', 'age', 'religion or belief', 'gender reassignment', 'race', 'age', 'sex', 'religion or belief', 'marriage and civil partnership', 'age', 'religion or belief', 'disability', 'race', 'gender reassignment', 'age', 'gender reassignment', 'sexual orientation', 'gender reassignment', 'gender reassignment', 'marriage and civil partnership', 'gender reassignment', 'age', 'religion or belief', 'race', 'gender reassignment', 'sex', 'marriage and civil partnership', 'age', 'pregnancy and maternity', 'race', 'religion or belief', 'disability', 'race', 'sexual orientation', 'sexual orientation', 'sex', 'sexual orientation', 'race', 'sexual orientation', 'race', 'disability', 'race', 'marriage and civil partnership', 'marriage and civil partnership', 'sex', 'religion or belief', 'disability', 'sexual orientation', 'religion or belief', 'disability', 'sexual orientation', 'disability', 'sexual orientation', 'race', 'pregnancy and maternity', 'sexual orientation', 'pregnancy and maternity', 'sex', 'disability', 'sex', 'race', 'race', 'sex', 'age', 'gender reassignment', 'age', 'sexual orientation', 'gender reassignment', 'religion or belief', 'pregnancy and maternity', 'sex', 'pregnancy and maternity', 'age', 'race', 'disability', 'disability', 'age', 'pregnancy and maternity', 'sexual orientation', 'race', 'marriage and civil partnership', 'sexual orientation', 'race', 'gender reassignment', 'age', 'age', 'religion or belief', 'sexual orientation', 'pregnancy and maternity', 'marriage and civil partnership', 'sexual orientation', 'religion or belief', 'race', 'race', 'sex', 'sex', 'gender reassignment', 'pregnancy and maternity', 'disability', 'marriage and civil partnership', 'sex', 'sexual orientation', 'gender reassignment', 'race', 'sex', 'disability', 'gender reassignment', 'age', 'religion or belief', 'age', 'sexual orientation', 'age', 'race', 'age', 'religion or belief', 'disability', 'sex', 'age', 'marriage and civil partnership', 'religion or belief', 'sexual orientation', 'sex', 'religion or belief', 'sexual orientation', 'marriage and civil partnership', 'sex', 'disability', 'disability', 'pregnancy and maternity', 'race', 'religion or belief', 'sexual orientation', 'marriage and civil partnership', 'disability', 'race', 'religion or belief', 'sex', 'sexual orientation', 'disability', 'sexual orientation', 'pregnancy and maternity', 'age', 'marriage and civil partnership', 'pregnancy and maternity', 'sexual orientation', 'religion or belief', 'sex', 'race', 'disability', 'age', 'sex', 'gender reassignment', 'pregnancy and maternity', 'gender reassignment', 'age', 'sexual orientation', 'gender reassignment', 'marriage and civil partnership', 'marriage and civil partnership', 'marriage and civil partnership', 'pregnancy and maternity', 'age', 'disability', 'pregnancy and maternity', 'age', 'marriage and civil partnership', 'race', 'marriage and civil partnership', 'gender reassignment', 'age', 'gender reassignment', 'gender reassignment', 'race', 'disability', 'age', 'disability', 'race', 'age', 'disability', 'marriage and civil partnership', 'gender reassignment', 'age', 'gender reassignment', 'sex', 'religion or belief', 'gender reassignment', 'sexual orientation', 'sex', 'sex', 'age', 'sex', 'sex', 'sex', 'age', 'race', 'disability', 'sex', 'age', 'gender reassignment', 'gender reassignment', 'race', 'sexual orientation', 'gender reassignment', 'race', 'religion or belief', 'pregnancy and maternity', 'race', 'age', 'pregnancy and maternity', 'gender reassignment', 'age', 'pregnancy and maternity', 'gender reassignment', 'religion or belief', 'sexual orientation', 'age', 'marriage and civil partnership', 'gender reassignment', 'gender reassignment', 'marriage and civil partnership', 'sex', 'sex', 'gender reassignment', 'marriage and civil partnership', 'marriage and civil partnership', 'pregnancy and maternity', 'age', 'age', 'religion or belief', 'race', 'sex', 'sexual orientation', 'age', 'age', 'gender reassignment', 'race', 'pregnancy and maternity', 'age', 'disability', 'gender reassignment', 'gender reassignment', 'marriage and civil partnership', 'religion or belief', 'sex', 'marriage and civil partnership', 'sex', 'religion or belief', 'pregnancy and maternity', 'marriage and civil partnership', 'pregnancy and maternity', 'age', 'pregnancy and maternity', 'disability', 'race', 'marriage and civil partnership', 'race', 'pregnancy and maternity', 'sex', 'sex', 'marriage and civil partnership', 'religion or belief', 'pregnancy and maternity', 'sexual orientation', 'sex', 'disability', 'pregnancy and maternity', 'sex', 'disability', 'disability', 'gender reassignment', 'pregnancy and maternity', 'race', 'disability', 'sex', 'sex', 'race', 'race', 'disability', 'race', 'pregnancy and maternity', 'marriage and civil partnership', 'sex', 'age', 'marriage and civil partnership', 'sexual orientation', 'disability', 'sexual orientation', 'sexual orientation', 'religion or belief', 'sexual orientation', 'gender reassignment', 'sexual orientation', 'sexual orientation', 'sexual orientation', 'pregnancy and maternity', 'gender reassignment', 'age', 'sex', 'race', 'religion or belief', 'sex', 'religion or belief', 'disability', 'sex', 'sexual orientation', 'age', 'race', 'disability', 'age', 'age', 'religion or belief', 'pregnancy and maternity', 'sex', 'sex', 'marriage and civil partnership', 'marriage and civil partnership', 'sex', 'gender reassignment', 'pregnancy and maternity', 'religion or belief', 'pregnancy and maternity', 'age', 'race', 'race', 'gender reassignment', 'race', 'pregnancy and maternity', 'disability', 'pregnancy and maternity', 'pregnancy and maternity', 'marriage and civil partnership', 'sex', 'pregnancy and maternity', 'disability', 'gender reassignment', 'race', 'sexual orientation', 'religion or belief', 'marriage and civil partnership', 'sex', 'pregnancy and maternity', 'sex', 'sex', 'pregnancy and maternity', 'marriage and civil partnership', 'marriage and civil partnership', 'marriage and civil partnership', 'gender reassignment', 'sex', 'religion or belief', 'religion or belief', 'race', 'age', 'religion or belief', 'sex', 'sexual orientation', 'gender reassignment', 'age', 'disability', 'age', 'gender reassignment', 'age', 'gender reassignment', 'marriage and civil partnership', 'gender reassignment', 'marriage and civil partnership', 'sexual orientation', 'religion or belief', 'religion or belief', 'age', 'marriage and civil partnership', 'pregnancy and maternity', 'gender reassignment', 'religion or belief', 'marriage and civil partnership', 'gender reassignment', 'religion or belief', 'sexual orientation', 'gender reassignment', 'age', 'sex', 'age', 'pregnancy and maternity', 'disability', 'marriage and civil partnership', 'religion or belief', 'gender reassignment', 'pregnancy and maternity', 'religion or belief', 'marriage and civil partnership', 'gender reassignment', 'gender reassignment', 'disability', 'pregnancy and maternity', 'pregnancy and maternity', 'gender reassignment', 'age', 'sex', 'race', 'disability', 'marriage and civil partnership', 'sexual orientation', 'gender reassignment', 'gender reassignment', 'age', 'gender reassignment', 'disability', 'marriage and civil partnership', 'sex', 'disability', 'gender reassignment', 'race', 'pregnancy and maternity', 'marriage and civil partnership', 'sex', 'sexual orientation', 'disability', 'disability', 'race', 'gender reassignment', 'sex', 'pregnancy and maternity', 'gender reassignment', 'race', 'pregnancy and maternity', 'race', 'gender reassignment', 'age', 'age', 'sex', 'sexual orientation', 'gender reassignment', 'age', 'pregnancy and maternity', 'sex', 'age', 'race', 'age', 'sex', 'religion or belief', 'sex', 'religion or belief', 'gender reassignment', 'race', 'disability', 'religion or belief', 'age', 'disability', 'race', 'sexual orientation', 'marriage and civil partnership', 'religion or belief', 'pregnancy and maternity', 'pregnancy and maternity', 'pregnancy and maternity', 'disability', 'marriage and civil partnership', 'age', 'pregnancy and maternity', 'sexual orientation', 'disability', 'sexual orientation', 'gender reassignment', 'race', 'pregnancy and maternity', 'marriage and civil partnership', 'gender reassignment', 'religion or belief', 'race', 'sex', 'sex', 'gender reassignment', 'pregnancy and maternity', 'disability', 'age', 'disability', 'sex', 'religion or belief', 'disability', 'pregnancy and maternity', 'marriage and civil partnership', 'religion or belief', 'race', 'marriage and civil partnership', 'disability', 'marriage and civil partnership', 'sex', 'religion or belief', 'religion or belief', 'gender reassignment', 'religion or belief', 'pregnancy and maternity', 'age', 'sexual orientation', 'religion or belief', 'religion or belief', 'marriage and civil partnership', 'sex', 'marriage and civil partnership', 'pregnancy and maternity', 'pregnancy and maternity', 'sexual orientation', 'religion or belief', 'gender reassignment', 'age', 'religion or belief', 'sex', 'pregnancy and maternity', 'pregnancy and maternity', 'age', 'marriage and civil partnership', 'religion or belief', 'sexual orientation', 'pregnancy and maternity', 'pregnancy and maternity', 'religion or belief', 'age', 'disability', 'sex', 'sexual orientation', 'sex', 'religion or belief', 'race', 'marriage and civil partnership', 'pregnancy and maternity', 'religion or belief', 'age', 'marriage and civil partnership', 'sexual orientation', 'sex', 'religion or belief', 'sex', 'disability', 'sexual orientation', 'sexual orientation', 'sex', 'race', 'race', 'sex', 'race', 'religion or belief', 'disability', 'gender reassignment', 'age', 'race', 'sex', 'sexual orientation', 'gender reassignment', 'disability', 'pregnancy and maternity', 'marriage and civil partnership', 'disability', 'age', 'pregnancy and maternity', 'religion or belief', 'disability', 'marriage and civil partnership', 'marriage and civil partnership', 'gender reassignment', 'sexual orientation', 'disability', 'gender reassignment', 'pregnancy and maternity', 'gender reassignment', 'sex', 'marriage and civil partnership', 'religion or belief', 'age', 'marriage and civil partnership', 'age', 'disability', 'marriage and civil partnership', 'religion or belief', 'disability', 'sexual orientation', 'disability', 'disability', 'marriage and civil partnership', 'race', 'age', 'race', 'sexual orientation', 'age', 'race', 'race', 'pregnancy and maternity', 'religion or belief', 'disability', 'race', 'sexual orientation', 'race', 'marriage and civil partnership', 'pregnancy and maternity', 'race', 'age', 'pregnancy and maternity', 'race', 'age', 'age', 'sex', 'marriage and civil partnership', 'race', 'sexual orientation', 'sex', 'pregnancy and maternity', 'disability', 'religion or belief', 'pregnancy and maternity', 'disability', 'sexual orientation', 'religion or belief', 'gender reassignment', 'gender reassignment', 'race', 'gender reassignment', 'sexual orientation', 'age', 'age', 'age', 'sexual orientation', 'race', 'marriage and civil partnership', 'disability', 'religion or belief', 'sexual orientation', 'race', 'religion or belief', 'race', 'gender reassignment', 'sexual orientation', 'pregnancy and maternity', 'pregnancy and maternity', 'pregnancy and maternity', 'age', 'age', 'sex', 'gender reassignment', 'marriage and civil partnership', 'sexual orientation', 'disability', 'gender reassignment', 'disability', 'sexual orientation', 'disability', 'marriage and civil partnership', 'gender reassignment', 'pregnancy and maternity', 'sexual orientation', 'marriage and civil partnership', 'race', 'disability', 'sexual orientation', 'religion or belief', 'sex', 'sex', 'religion or belief', 'sexual orientation', 'sex', 'sexual orientation', 'race', 'pregnancy and maternity', 'sex', 'disability', 'gender reassignment', 'sexual orientation', 'disability', 'sexual orientation', 'race', 'sexual orientation', 'disability', 'age', 'gender reassignment', 'race', 'race', 'race', 'sexual orientation', 'race', 'disability', 'sexual orientation', 'religion or belief', 'disability', 'pregnancy and maternity', 'religion or belief', 'age', 'sexual orientation', 'sexual orientation', 'marriage and civil partnership', 'marriage and civil partnership', 'sexual orientation', 'disability', 'sexual orientation', 'marriage and civil partnership', 'gender reassignment', 'gender reassignment', 'race', 'marriage and civil partnership', 'age', 'sexual orientation', 'gender reassignment', 'disability', 'race', 'race', 'religion or belief', 'sexual orientation', 'marriage and civil partnership', 'sex', 'pregnancy and maternity', 'race', 'sexual orientation', 'gender reassignment', 'sex', 'disability', 'sex', 'sexual orientation', 'marriage and civil partnership', 'sexual orientation', 'disability', 'marriage and civil partnership', 'marriage and civil partnership', 'race', 'marriage and civil partnership', 'age', 'sexual orientation', 'race', 'disability', 'pregnancy and maternity', 'religion or belief', 'disability', 'sex', 'religion or belief', 'marriage and civil partnership', 'pregnancy and maternity', 'disability', 'sexual orientation', 'race', 'disability', 'race', 'age', 'marriage and civil partnership', 'religion or belief', 'marriage and civil partnership', 'age', 'race', 'sex', 'religion or belief', 'marriage and civil partnership', 'race', 'sex', 'gender reassignment', 'gender reassignment', 'age', 'race', 'age', 'gender reassignment', 'religion or belief', 'gender reassignment', 'disability', 'disability', 'pregnancy and maternity', 'race', 'religion or belief', 'gender reassignment', 'pregnancy and maternity', 'age', 'disability', 'gender reassignment', 'pregnancy and maternity', 'sexual orientation', 'age', 'sex', 'race', 'disability', 'disability', 'marriage and civil partnership', 'sex', 'race', 'marriage and civil partnership', 'pregnancy and maternity', 'race', 'age', 'sexual orientation', 'sexual orientation', 'sex', 'sex', 'race', 'gender reassignment', 'pregnancy and maternity', 'religion or belief', 'marriage and civil partnership', 'pregnancy and maternity', 'age', 'sexual orientation', 'gender reassignment', 'age', 'marriage and civil partnership', 'gender reassignment', 'disability', 'marriage and civil partnership', 'sexual orientation', 'age', 'age', 'age', 'marriage and civil partnership', 'pregnancy and maternity', 'sexual orientation', 'race', 'religion or belief', 'sex', 'disability', 'sexual orientation', 'disability', 'race', 'sex', 'sexual orientation', 'religion or belief', 'disability', 'religion or belief', 'race', 'sex', 'pregnancy and maternity', 'sexual orientation', 'marriage and civil partnership', 'disability', 'pregnancy and maternity', 'age', 'age', 'race', 'sex', 'marriage and civil partnership', 'marriage and civil partnership', 'race', 'race', 'gender reassignment', 'gender reassignment', 'sex', 'religion or belief', 'sex', 'age', 'race', 'pregnancy and maternity', 'disability', 'religion or belief', 'pregnancy and maternity', 'religion or belief', 'religion or belief', 'sex', 'marriage and civil partnership', 'race', 'race', 'religion or belief', 'sexual orientation', 'race', 'pregnancy and maternity', 'age', 'sex', 'disability', 'age', 'sexual orientation', 'marriage and civil partnership', 'age', 'pregnancy and maternity', 'race', 'marriage and civil partnership', 'age', 'disability', 'race', 'sex', 'religion or belief', 'age', 'gender reassignment', 'gender reassignment', 'sexual orientation', 'pregnancy and maternity', 'gender reassignment', 'disability', 'pregnancy and maternity', 'pregnancy and maternity', 'religion or belief', 'religion or belief', 'religion or belief', 'religion or belief', 'sex', 'disability', 'race', 'sex', 'sex', 'marriage and civil partnership', 'race', 'sexual orientation', 'pregnancy and maternity', 'disability', 'age', 'disability', 'age', 'sex', 'religion or belief', 'sexual orientation', 'race', 'marriage and civil partnership', 'sexual orientation', 'race', 'race', 'pregnancy and maternity', 'sexual orientation', 'sex', 'religion or belief', 'religion or belief', 'disability', 'age', 'sex', 'sexual orientation', 'race', 'sex', 'marriage and civil partnership', 'pregnancy and maternity', 'race', 'pregnancy and maternity', 'age', 'age', 'sexual orientation', 'religion or belief', 'race', 'disability', 'marriage and civil partnership', 'gender reassignment', 'disability', 'race', 'marriage and civil partnership', 'disability', 'disability', 'marriage and civil partnership', 'sexual orientation', 'sex', 'race', 'gender reassignment', 'disability', 'race', 'disability', 'gender reassignment', 'race', 'gender reassignment', 'race', 'religion or belief', 'race', 'pregnancy and maternity', 'race', 'sex', 'disability', 'sexual orientation', 'sex', 'sexual orientation', 'disability', 'religion or belief', 'sex', 'gender reassignment', 'disability', 'disability', 'marriage and civil partnership', 'marriage and civil partnership', 'race', 'religion or belief', 'marriage and civil partnership', 'gender reassignment', 'religion or belief', 'sexual orientation', 'disability', 'religion or belief', 'race', 'religion or belief', 'marriage and civil partnership', 'sexual orientation', 'marriage and civil partnership', 'age', 'marriage and civil partnership', 'age', 'marriage and civil partnership', 'pregnancy and maternity', 'religion or belief', 'religion or belief', 'gender reassignment', 'pregnancy and maternity', 'marriage and civil partnership', 'religion or belief', 'marriage and civil partnership', 'religion or belief', 'marriage and civil partnership', 'sex', 'sex', 'sex', 'marriage and civil partnership', 'gender reassignment', 'gender reassignment', 'religion or belief', 'marriage and civil partnership', 'sex', 'disability', 'sexual orientation', 'pregnancy and maternity', 'pregnancy and maternity', 'sex', 'sex', 'disability', 'pregnancy and maternity', 'age', 'sexual orientation', 'gender reassignment', 'sex', 'sex', 'marriage and civil partnership', 'sexual orientation', 'gender reassignment', 'sex', 'pregnancy and maternity', 'disability', 'marriage and civil partnership', 'age', 'pregnancy and maternity', 'sex', 'gender reassignment', 'pregnancy and maternity', 'sex', 'disability', 'sexual orientation', 'gender reassignment', 'sex', 'age', 'race', 'sex', 'marriage and civil partnership', 'sexual orientation', 'sexual orientation', 'sexual orientation', 'sexual orientation', 'race', 'pregnancy and maternity', 'sexual orientation', 'sexual orientation', 'race', 'gender reassignment', 'race', 'race', 'disability', 'gender reassignment', 'disability', 'religion or belief', 'gender reassignment', 'sexual orientation', 'sex', 'sexual orientation', 'sexual orientation', 'religion or belief', 'disability', 'gender reassignment', 'age', 'pregnancy and maternity', 'pregnancy and maternity', 'sex', 'sexual orientation', 'pregnancy and maternity', 'gender reassignment', 'age', 'gender reassignment', 'religion or belief', 'disability', 'marriage and civil partnership', 'religion or belief', 'race', 'age', 'sexual orientation', 'sex', 'sexual orientation', 'race', 'pregnancy and maternity', 'gender reassignment', 'disability', 'religion or belief', 'race', 'religion or belief', 'gender reassignment', 'gender reassignment', 'sex', 'race', 'marriage and civil partnership', 'pregnancy and maternity', 'pregnancy and maternity', 'age', 'age', 'race', 'race', 'pregnancy and maternity', 'pregnancy and maternity', 'race', 'sex', 'sexual orientation', 'religion or belief', 'sex', 'race', 'marriage and civil partnership', 'sex', 'religion or belief', 'gender reassignment', 'age', 'age', 'sexual orientation', 'religion or belief', 'marriage and civil partnership', 'religion or belief', 'age', 'religion or belief', 'sex', 'sexual orientation', 'race', 'age', 'gender reassignment', 'marriage and civil partnership', 'sexual orientation', 'marriage and civil partnership', 'marriage and civil partnership', 'pregnancy and maternity', 'race', 'religion or belief', 'marriage and civil partnership', 'age', 'age', 'race', 'sexual orientation', 'sexual orientation', 'age', 'religion or belief', 'age', 'marriage and civil partnership', 'age', 'pregnancy and maternity', 'religion or belief', 'pregnancy and maternity', 'age', 'marriage and civil partnership', 'disability', 'pregnancy and maternity', 'sexual orientation', 'age', 'pregnancy and maternity', 'gender reassignment', 'age', 'sex', 'age', 'sexual orientation', 'gender reassignment', 'religion or belief', 'marriage and civil partnership', 'religion or belief', 'marriage and civil partnership', 'sex', 'marriage and civil partnership', 'religion or belief', 'age', 'race', 'religion or belief', 'religion or belief', 'religion or belief', 'religion or belief', 'gender reassignment', 'pregnancy and maternity', 'religion or belief', 'sex', 'disability', 'gender reassignment', 'age', 'sexual orientation', 'age', 'race', 'marriage and civil partnership', 'race', 'sexual orientation', 'sex', 'pregnancy and maternity', 'sexual orientation', 'pregnancy and maternity', 'disability', 'age', 'sex', 'gender reassignment', 'gender reassignment', 'religion or belief', 'gender reassignment', 'pregnancy and maternity', 'pregnancy and maternity', 'gender reassignment', 'sexual orientation', 'disability', 'pregnancy and maternity', 'sexual orientation', 'sexual orientation', 'disability', 'religion or belief', 'marriage and civil partnership', 'sex', 'pregnancy and maternity', 'age', 'religion or belief', 'gender reassignment', 'race', 'sexual orientation', 'gender reassignment', 'age', 'sex', 'gender reassignment', 'religion or belief', 'gender reassignment', 'marriage and civil partnership', 'sex', 'sexual orientation', 'religion or belief', 'religion or belief', 'race', 'race', 'age', 'age', 'disability', 'age', 'marriage and civil partnership', 'sex', 'sexual orientation', 'age', 'race', 'disability', 'disability', 'race', 'marriage and civil partnership', 'sexual orientation', 'age', 'pregnancy and maternity', 'sex', 'race', 'race', 'race', 'sexual orientation', 'gender reassignment', 'race', 'disability', 'religion or belief', 'age', 'marriage and civil partnership', 'age', 'marriage and civil partnership', 'age', 'age', 'marriage and civil partnership', 'disability', 'marriage and civil partnership', 'disability', 'sex', 'disability', 'sex', 'gender reassignment', 'gender reassignment', 'sexual orientation', 'disability', 'race', 'sex', 'gender reassignment', 'pregnancy and maternity', 'gender reassignment', 'age', 'age', 'age', 'sex', 'disability', 'sex', 'sex', 'pregnancy and maternity', 'race', 'age', 'race', 'religion or belief', 'disability', 'gender reassignment', 'age', 'age', 'pregnancy and maternity', 'pregnancy and maternity', 'disability', 'religion or belief', 'age', 'disability', 'gender reassignment', 'age', 'disability', 'sexual orientation', 'marriage and civil partnership', 'pregnancy and maternity', 'gender reassignment', 'pregnancy and maternity', 'pregnancy and maternity', 'sex', 'gender reassignment', 'age', 'religion or belief', 'disability', 'pregnancy and maternity', 'disability', 'sexual orientation', 'sexual orientation', 'sex', 'religion or belief', 'gender reassignment', 'age', 'race', 'race', 'sex', 'gender reassignment', 'marriage and civil partnership', 'gender reassignment', 'race', 'sex', 'marriage and civil partnership', 'race', 'sex', 'marriage and civil partnership', 'pregnancy and maternity', 'marriage and civil partnership', 'sexual orientation', 'sexual orientation', 'marriage and civil partnership', 'religion or belief', 'religion or belief', 'race', 'race', 'gender reassignment', 'sexual orientation', 'age', 'sexual orientation', 'sexual orientation', 'marriage and civil partnership', 'pregnancy and maternity', 'age', 'disability', 'religion or belief', 'pregnancy and maternity', 'pregnancy and maternity', 'marriage and civil partnership', 'sexual orientation', 'sex', 'age', 'disability', 'gender reassignment', 'gender reassignment', 'disability', 'race', 'religion or belief', 'gender reassignment', 'religion or belief', 'disability', 'disability', 'disability', 'disability', 'religion or belief', 'gender reassignment', 'religion or belief', 'age', 'religion or belief', 'race', 'race', 'marriage and civil partnership', 'religion or belief', 'age', 'age', 'sex', 'sex', 'sex', 'sexual orientation', 'age', 'sexual orientation', 'gender reassignment', 'religion or belief', 'pregnancy and maternity', 'gender reassignment', 'disability', 'age', 'age', 'sexual orientation', 'religion or belief', 'marriage and civil partnership', 'marriage and civil partnership', 'age', 'marriage and civil partnership', 'disability', 'race', 'marriage and civil partnership', 'marriage and civil partnership', 'pregnancy and maternity', 'sex', 'pregnancy and maternity', 'marriage and civil partnership', 'religion or belief', 'pregnancy and maternity', 'race', 'pregnancy and maternity', 'disability', 'pregnancy and maternity', 'sexual orientation', 'gender reassignment', 'sex', 'race', 'age', 'sexual orientation', 'race', 'pregnancy and maternity', 'marriage and civil partnership', 'disability', 'disability', 'pregnancy and maternity', 'disability', 'religion or belief', 'gender reassignment', 'race', 'pregnancy and maternity', 'religion or belief', 'marriage and civil partnership', 'race', 'age', 'sex', 'marriage and civil partnership', 'disability', 'marriage and civil partnership', 'gender reassignment', 'age', 'marriage and civil partnership', 'pregnancy and maternity', 'sexual orientation', 'pregnancy and maternity', 'sexual orientation', 'disability', 'pregnancy and maternity', 'marriage and civil partnership', 'gender reassignment', 'religion or belief', 'disability', 'disability', 'disability', 'race', 'gender reassignment', 'religion or belief', 'sexual orientation', 'sex', 'religion or belief', 'marriage and civil partnership', 'gender reassignment', 'disability', 'race', 'religion or belief', 'race', 'age', 'disability', 'religion or belief', 'race', 'age', 'pregnancy and maternity', 'sex', 'sex', 'race', 'pregnancy and maternity', 'age', 'pregnancy and maternity', 'race', 'sex', 'race', 'marriage and civil partnership', 'marriage and civil partnership', 'pregnancy and maternity', 'disability', 'pregnancy and maternity', 'marriage and civil partnership', 'marriage and civil partnership', 'pregnancy and maternity', 'pregnancy and maternity', 'sexual orientation', 'race', 'disability', 'age', 'sexual orientation', 'pregnancy and maternity', 'gender reassignment', 'gender reassignment', 'race', 'marriage and civil partnership', 'disability', 'age', 'sex', 'religion or belief', 'marriage and civil partnership', 'race', 'pregnancy and maternity', 'disability', 'gender reassignment', 'religion or belief', 'disability', 'disability', 'marriage and civil partnership', 'religion or belief', 'pregnancy and maternity', 'sexual orientation', 'disability', 'sex', 'sexual orientation', 'marriage and civil partnership', 'disability', 'gender reassignment', 'sexual orientation', 'religion or belief', 'religion or belief', 'religion or belief', 'sex', 'age', 'marriage and civil partnership', 'sexual orientation', 'age', 'sexual orientation', 'marriage and civil partnership', 'gender reassignment', 'marriage and civil partnership', 'age', 'marriage and civil partnership', 'pregnancy and maternity', 'sex', 'sexual orientation', 'religion or belief', 'gender reassignment', 'sex', 'race', 'gender reassignment', 'religion or belief', 'gender reassignment', 'religion or belief', 'race', 'gender reassignment', 'race', 'disability', 'religion or belief', 'religion or belief', 'pregnancy and maternity', 'gender reassignment', 'race', 'pregnancy and maternity', 'religion or belief', 'gender reassignment', 'pregnancy and maternity', 'marriage and civil partnership', 'gender reassignment', 'marriage and civil partnership', 'race', 'disability', 'pregnancy and maternity', 'gender reassignment', 'disability', 'sexual orientation', 'pregnancy and maternity', 'sexual orientation', 'sex', 'disability', 'race', 'race', 'sex', 'race', 'marriage and civil partnership', 'sex', 'religion or belief', 'sex', 'sexual orientation', 'race', 'gender reassignment', 'gender reassignment', 'age', 'disability', 'sex', 'gender reassignment', 'gender reassignment', 'marriage and civil partnership', 'sex', 'marriage and civil partnership', 'sexual orientation', 'sex', 'sexual orientation', 'pregnancy and maternity', 'sex', 'religion or belief', 'pregnancy and maternity', 'marriage and civil partnership', 'sex', 'pregnancy and maternity', 'race', 'pregnancy and maternity', 'age', 'sexual orientation', 'gender reassignment', 'gender reassignment', 'disability', 'sexual orientation', 'sex', 'marriage and civil partnership', 'race', 'sexual orientation', 'religion or belief', 'race', 'disability', 'sexual orientation', 'race', 'race', 'pregnancy and maternity', 'sexual orientation', 'sexual orientation', 'sex', 'race', 'gender reassignment', 'age', 'marriage and civil partnership', 'age', 'marriage and civil partnership', 'sexual orientation', 'religion or belief', 'sexual orientation', 'sexual orientation', 'marriage and civil partnership', 'pregnancy and maternity', 'disability', 'disability', 'gender reassignment', 'age', 'sex', 'age', 'pregnancy and maternity', 'age', 'marriage and civil partnership', 'sex', 'race', 'sex', 'religion or belief', 'disability', 'marriage and civil partnership', 'sexual orientation', 'religion or belief', 'sexual orientation']\n"
          ]
        }
      ]
    },
    {
      "cell_type": "markdown",
      "metadata": {
        "id": "yNWg08k6bXv0"
      },
      "source": [
        "---\n",
        "### Exercise 2 - show tuple items\n",
        "\n",
        "Write a function which will:\n",
        "*   use a loop to print the list of protected characteristics from the `protected_characteristics` tuple.\n"
      ]
    },
    {
      "cell_type": "code",
      "metadata": {
        "id": "P2HnCG9pb1BS",
        "colab": {
          "base_uri": "https://localhost:8080/"
        },
        "outputId": "c295f295-cb82-4a4a-c6be-677d5ca8ea2e"
      },
      "source": [
        "def get_protected_characteristics(protected_characteristics):\n",
        "  for i in protected_characteristics:\n",
        "    print(i)\n",
        "\n",
        "get_protected_characteristics(protected_characteristics)"
      ],
      "execution_count": 3,
      "outputs": [
        {
          "output_type": "stream",
          "name": "stdout",
          "text": [
            "age\n",
            "disability\n",
            "gender reassignment\n",
            "marriage and civil partnership\n",
            "pregnancy and maternity\n",
            "race\n",
            "religion or belief\n",
            "sex\n",
            "sexual orientation\n"
          ]
        }
      ]
    },
    {
      "cell_type": "markdown",
      "metadata": {
        "id": "RTSuQZs4b1JU"
      },
      "source": [
        "---\n",
        "### Exercise 3 - list a random subset\n",
        "\n",
        "Write a function which will:\n",
        "*  calculate the position of the middle item in the `characteristics` list   \n",
        "(*Hint: use len() to help with this*)\n",
        "*  calculate the position of the item that is 5 places before the middle item\n",
        "*  calculate the position of the item that is 5 places after the middle item\n",
        "*  print the part of the list that includes the items from 5 places before to 5 places after.  \n",
        "\n",
        "Expected output:  \n",
        "Your list will include 11 items."
      ]
    },
    {
      "cell_type": "code",
      "metadata": {
        "id": "OwhFnH2kdC11",
        "colab": {
          "base_uri": "https://localhost:8080/"
        },
        "outputId": "2b02947c-ccce-42f0-f63a-770ba7feb52a"
      },
      "source": [
        "from random import randint, choice\n",
        "def list_random_subset(characteristics):\n",
        "  middle_item=len(characteristics)//2\n",
        "  before_item=middle_item-5\n",
        "  after_item=middle_item+5\n",
        "\n",
        "  part_list=characteristics[before_item:after_item +1]\n",
        "  print(len(part_list))\n",
        "\n",
        "list_random_subset(characteristics)\n"
      ],
      "execution_count": 4,
      "outputs": [
        {
          "output_type": "stream",
          "name": "stdout",
          "text": [
            "11\n"
          ]
        }
      ]
    },
    {
      "cell_type": "markdown",
      "metadata": {
        "id": "KS0x3oFNePI9"
      },
      "source": [
        "---\n",
        "### Exercise 4 - create a copy\n",
        "\n",
        "Write a function which will: use a for loop to create a copy of the `nums` list:\n",
        "\n",
        "*   create a new, empty, list called **new_nums**  (*Hint: an empty list is [ ]*)\n",
        "*   use a for loop which uses the following syntax:  `for num in nums:`\n",
        "*   each time round the loop append `num` to `new_nums`  ( *`new_nums.append(num)`*)\n",
        "*   print the first 10 items of `new_nums`\n",
        "*   print the first 10 items of `nums`\n",
        "*   print the length of both lists"
      ]
    },
    {
      "cell_type": "code",
      "metadata": {
        "id": "mpK1Ip3we-uC",
        "colab": {
          "base_uri": "https://localhost:8080/"
        },
        "outputId": "7b4ee701-b332-466b-fef5-3e2459dce181"
      },
      "source": [
        "def create_copy(nums):\n",
        "  new_nums=[]\n",
        "  for num in nums:\n",
        "    new_nums.append(num)\n",
        "  print(new_nums[:10])\n",
        "  print(len(new_nums))\n",
        "  print(nums[:10])\n",
        "  print(len(nums))\n",
        "\n",
        "create_copy(nums)\n"
      ],
      "execution_count": 5,
      "outputs": [
        {
          "output_type": "stream",
          "name": "stdout",
          "text": [
            "[95, 24, 15, 31, 52, 80, 64, 24, 94, 25]\n",
            "1000\n",
            "[95, 24, 15, 31, 52, 80, 64, 24, 94, 25]\n",
            "1000\n"
          ]
        }
      ]
    },
    {
      "cell_type": "markdown",
      "metadata": {
        "id": "deUIFWjRe-3G"
      },
      "source": [
        "\n",
        "\n",
        "```\n",
        "# This is formatted as code\n",
        "```\n",
        "\n",
        "---\n",
        "### Exercise 5 - count the occurrence of age in characteristics\n",
        "\n",
        "Write a function which will use the list method:\n",
        "\n",
        "`num_items = list_name.count(item)`\n",
        "\n",
        "to count the number of occurrences of 'age' in the `characteristics` list.  Print the result."
      ]
    },
    {
      "cell_type": "code",
      "metadata": {
        "id": "b9TrHQ9hfoIU",
        "colab": {
          "base_uri": "https://localhost:8080/"
        },
        "outputId": "110808a7-e43b-4a6b-fd1c-7d077e1f4ffd"
      },
      "source": [
        "def age_characteristics(characteristics):\n",
        "  num_items= characteristics.count(\"age\")\n",
        "  print(num_items)\n",
        "\n",
        "age_characteristics(characteristics)\n",
        "\n",
        "\n"
      ],
      "execution_count": 6,
      "outputs": [
        {
          "output_type": "stream",
          "name": "stdout",
          "text": [
            "336\n"
          ]
        }
      ]
    },
    {
      "cell_type": "markdown",
      "metadata": {
        "id": "zm2VI5RmfoSy"
      },
      "source": [
        "---\n",
        "### Exercise 6 - sort the nums list\n",
        "\n",
        "Write a function which will:\n",
        "*   call the function `get_num_list()` and store the result in a new list called **sort_nums**\n",
        "*   print the first, and last, 20 items in the `sort_nums` list\n",
        "*   use the `list_name.sort()` method to sort the `sort_nums` list into ascending order\n",
        "*   print the first, and last, 20 items again  \n",
        "*   use the `list_name.sort()` method again to sort the `sort_nums` list into descending order\n",
        "*   print the first, and last, 20 items again"
      ]
    },
    {
      "cell_type": "code",
      "metadata": {
        "id": "Fksgpj9JgWDs",
        "colab": {
          "base_uri": "https://localhost:8080/"
        },
        "outputId": "ae5314ce-1a09-461b-b400-3a8d35c51ac8"
      },
      "source": [
        "def sort_num_list(sort_nums):\n",
        "\n",
        "  print(sort_nums[:20])\n",
        "  print(sort_nums[-20:])\n",
        "\n",
        "  sort_nums.sort()\n",
        "  print(sort_nums[:20])\n",
        "  print(sort_nums[-20:])\n",
        "\n",
        "  sort_nums.sort(reverse=True)\n",
        "  print(sort_nums[:20])\n",
        "  print(sort_nums[-20:])\n",
        "\n",
        "sort_nums=get_num_list()\n",
        "sort_num_list(sort_nums)\n",
        "\n",
        "\n",
        "\n"
      ],
      "execution_count": 14,
      "outputs": [
        {
          "output_type": "stream",
          "name": "stdout",
          "text": [
            "[47, 98, 59, 65, 42, 74, 4, 88, 37, 98, 57, 56, 21, 24, 20, 74, 44, 90, 37, 32]\n",
            "[61, 49, 8, 70, 39, 100, 10, 52, 99, 40, 64, 36, 67, 7, 24, 45, 85, 93, 4, 56]\n",
            "[1, 1, 1, 1, 1, 1, 1, 2, 2, 2, 2, 2, 2, 2, 2, 2, 3, 3, 3, 3]\n",
            "[99, 99, 99, 99, 99, 99, 99, 99, 100, 100, 100, 100, 100, 100, 100, 100, 100, 100, 100, 100]\n",
            "[100, 100, 100, 100, 100, 100, 100, 100, 100, 100, 100, 100, 99, 99, 99, 99, 99, 99, 99, 99]\n",
            "[3, 3, 3, 3, 2, 2, 2, 2, 2, 2, 2, 2, 2, 1, 1, 1, 1, 1, 1, 1]\n"
          ]
        }
      ]
    },
    {
      "cell_type": "markdown",
      "metadata": {
        "id": "_OF-Xuj1UrW0"
      },
      "source": [
        "---\n",
        "### Exercise 7 - get statistics (max(), min(), sum() )\n",
        "\n",
        "Write a function which will:\n",
        "*   print the maximum and minimum numbers in the `nums` list  \n",
        "*   print the sum of the `nums` list\n",
        "*   calculate and print the average of the `nums` list (using `len()` to help)"
      ]
    },
    {
      "cell_type": "code",
      "metadata": {
        "id": "9YmYMenZVGod",
        "colab": {
          "base_uri": "https://localhost:8080/"
        },
        "outputId": "9cc4a0cc-c959-4d53-a363-253b989fbccf"
      },
      "source": [
        "def get_statistics(nums):\n",
        "  print(max(nums))\n",
        "  print(min(nums))\n",
        "  print(sum(nums))\n",
        "  average=sum(nums)/len(nums)\n",
        "  print(average)\n",
        "\n",
        "\n",
        "get_statistics(nums)\n"
      ],
      "execution_count": 8,
      "outputs": [
        {
          "output_type": "stream",
          "name": "stdout",
          "text": [
            "100\n",
            "1\n",
            "50469\n",
            "50.469\n"
          ]
        }
      ]
    },
    {
      "cell_type": "markdown",
      "metadata": {
        "id": "Mn4tHQ_KVbHa"
      },
      "source": [
        "---\n",
        "### Exercise 8 - percentage difference\n",
        "\n",
        "Write a function which will:\n",
        "*   generate a new list called **ex8_nums** using `get_num_list()`\n",
        "*   calculate and print the percentage difference between the first number in each list (as a percentage of the number in the nums list) (Hint:  find the difference between the two numbers, divide the difference by the number in `nums` and multiply by 100)\n",
        "*   calculate and print the percentage difference between the last numbers in each list in the same way\n",
        "*   calculate and print the percentage difference between the middle numbers in each list in the same way.\n",
        "*   calculate and print the percentage difference between the sums of each list in the same way"
      ]
    },
    {
      "cell_type": "code",
      "metadata": {
        "id": "nJCQjZIeZL0e",
        "colab": {
          "base_uri": "https://localhost:8080/"
        },
        "outputId": "f734df62-5394-480c-c631-ca4c15133bd3"
      },
      "source": [
        "import random\n",
        "def get_num_list():\n",
        "  return [random.randint(1,100) for ex8_nums in range (10)]\n",
        "\n",
        "def ex8_nums():\n",
        "  first_number=((ex8_nums[0] - nums[0])/nums[0])*100\n",
        "  print(first_number)\n",
        "  last_number=((ex8_nums[-1] - nums[-1])/nums[-1])*100\n",
        "  print(last_number)\n",
        "  middle_index=len(nums)//2\n",
        "  middle_numbers=((ex8_nums[middle_index]-nums[middle_index])/nums[middle_index])*100\n",
        "  print(middle_numbers)\n",
        "  sum_number=((sum(ex8_nums)-sum(nums))/ sum(nums))*100\n",
        "  print(sum_number)\n",
        "\n",
        "get_num_list()\n",
        "\n",
        "\n"
      ],
      "execution_count": 9,
      "outputs": [
        {
          "output_type": "execute_result",
          "data": {
            "text/plain": [
              "[18, 95, 59, 89, 49, 85, 21, 74, 81, 98]"
            ]
          },
          "metadata": {},
          "execution_count": 9
        }
      ]
    },
    {
      "cell_type": "markdown",
      "metadata": {
        "id": "HNs3lZmYawFO"
      },
      "source": [
        "---\n",
        "### Exercise 9 - characteristic counts\n",
        "\n",
        "Write a function which will:\n",
        "*  iterate through the `protected_characteristics` tuple and for each **characteristic**:\n",
        "*   *   count the number of occurrences of that `characteristic` in the `characteristics` list\n",
        "*   *   print the `protected_characteristic` and the **count**  \n",
        "\n",
        "Example expected output:\n",
        "\n",
        "age 100  \n",
        "disability 120  \n",
        "gender reassignment 120  \n",
        "marriage and civil partnership 111  \n",
        "pregnancy and maternity 103  \n",
        "race 106  \n",
        "religion or belief 95  \n",
        "sex 110  \n",
        "sexual orientation 113  \n",
        "\n",
        "Extra learning:  you can read [here](https://thispointer.com/python-how-to-pad-strings-with-zero-space-or-some-other-character/) how to justify the printed characteristic so that the output is organised into two columns as shown below:  \n",
        "![tabulated output](https://drive.google.com/uc?id=1CCXfX6K5ZeDefnq7vUsqxCDmqvcfY8Mz)\n",
        "\n",
        "\n",
        "\n"
      ]
    },
    {
      "cell_type": "code",
      "metadata": {
        "id": "GURT11albqUs",
        "colab": {
          "base_uri": "https://localhost:8080/"
        },
        "outputId": "24dfb02f-945b-4326-eeb6-5d5486505d87"
      },
      "source": [
        "def count_number(characteristics, protected_characteristics):\n",
        "  for characteristic in protected_characteristics:\n",
        "    count=characteristics.count(characteristic)\n",
        "    print(characteristic, count)\n",
        "\n",
        "\n",
        "count_number(characteristics, protected_characteristics)\n"
      ],
      "execution_count": 16,
      "outputs": [
        {
          "output_type": "stream",
          "name": "stdout",
          "text": [
            "age 535\n",
            "disability 495\n",
            "gender reassignment 544\n",
            "marriage and civil partnership 551\n",
            "pregnancy and maternity 547\n",
            "race 570\n",
            "religion or belief 494\n",
            "sex 528\n",
            "sexual orientation 558\n"
          ]
        }
      ]
    },
    {
      "cell_type": "markdown",
      "metadata": {
        "id": "9Po7yQj-ds38"
      },
      "source": [
        "---\n",
        "### Exercise 10 - characteristics statistics\n",
        "\n",
        "Assuming that the `characteristics` list may have been taken from a study of cases that have been taken to court in relation to the Equality Act.  \n",
        "\n",
        "Write a function which will:\n",
        "\n",
        "*   find the most common characteristic resulting in court action, from this population\n",
        "*   print this in a message, e.g. The characteristic with the highest number of court cases is:  *characteristic*\n",
        "*   print the list of `protected_characteristics`, on one line if possible - see [here](https://www.geeksforgeeks.org/g-fact-25-print-single-multiple-variable-python/)\n",
        "*   ask the user to enter a characteristic that they would like to see statistics on and use a while loop to continue until the user has entered a valid characteristic\n",
        "*   print the characteristic, its frequency and the percentage that this frequency is of the whole population."
      ]
    },
    {
      "cell_type": "code",
      "metadata": {
        "id": "uk_I5z7UgbDs",
        "colab": {
          "base_uri": "https://localhost:8080/",
          "height": 36
        },
        "outputId": "a21a9e22-229f-4bb3-f804-a9a054012c82"
      },
      "source": [
        "import collections\n",
        "def equality_statistics(characteristics, protected_characteristics):\n",
        "  count=collections.Counter(characteristics)\n",
        "  most_common= max(count)\n",
        "  return most_common\n",
        "\n",
        "equality_statistics(characteristics, protected_characteristics)\n",
        "\n"
      ],
      "execution_count": 20,
      "outputs": [
        {
          "output_type": "execute_result",
          "data": {
            "text/plain": [
              "'sexual orientation'"
            ],
            "application/vnd.google.colaboratory.intrinsic+json": {
              "type": "string"
            }
          },
          "metadata": {},
          "execution_count": 20
        }
      ]
    }
  ]
}