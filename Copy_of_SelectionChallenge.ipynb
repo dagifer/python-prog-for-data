{
  "nbformat": 4,
  "nbformat_minor": 0,
  "metadata": {
    "colab": {
      "provenance": [],
      "include_colab_link": true
    },
    "kernelspec": {
      "name": "python3",
      "display_name": "Python 3"
    }
  },
  "cells": [
    {
      "cell_type": "markdown",
      "metadata": {
        "id": "view-in-github",
        "colab_type": "text"
      },
      "source": [
        "<a href=\"https://colab.research.google.com/github/dagifer/python-prog-for-data/blob/main/Copy_of_SelectionChallenge.ipynb\" target=\"_parent\"><img src=\"https://colab.research.google.com/assets/colab-badge.svg\" alt=\"Open In Colab\"/></a>"
      ]
    },
    {
      "cell_type": "markdown",
      "metadata": {
        "id": "-QxAKPD8DZfj"
      },
      "source": [
        "# Three selection challenges\n",
        "\n",
        "---\n"
      ]
    },
    {
      "cell_type": "markdown",
      "metadata": {
        "id": "2KYUALILDcM9"
      },
      "source": [
        "### Challenge 1 - password format  \n",
        "\n",
        "Write a function called **check_password_valid()** which will check the validity of a **password** input by a user.\n",
        "\n",
        "Rules for a valid password are:  \n",
        "\n",
        "*  At least 1 letter between [a-z] and 1 letter between [A-Z].\n",
        "*  At least 1 number between [0-9].\n",
        "*  At least 1 character from [$#@].\n",
        "*  Minimum length 6 characters.\n",
        "*  Maximum length 16 characters.  \n",
        "\n",
        "Let the user know if the `password` they have typed is valid and, if not, where was the first error.\n",
        "\n",
        "*Hint:  to test if a set of characters is present in a password String, you can use re.search('[character set]', `password`)*  \n",
        "\n",
        "Example:   \n",
        "*if re.search('[a-z]',`password`):*    \n",
        "if there is at least 1 character a-z in the password, re.search will not be None.\n",
        "\n",
        "**re** is a pre-written Python function for pattern searching in Strings.  It has been imported for you in the code cell below.  "
      ]
    },
    {
      "cell_type": "code",
      "metadata": {
        "id": "8wBK9IA4BO2e",
        "colab": {
          "base_uri": "https://localhost:8080/"
        },
        "outputId": "9d5a8605-9990-42d0-8e2f-76a4b4a0997f"
      },
      "source": [
        "import re\n",
        "# add your check_PasswordValid() function and call below here\n",
        "def check_password_valid(password):\n",
        "  if len(password)<6:\n",
        "    print(\"Password is too short\")\n",
        "  if len(password) >16:\n",
        "    print(\"Password id too long\")\n",
        "  if not re.search(\"[a-z]\", password):\n",
        "    print(\"Must contain a lowercase\")\n",
        "  if not re.search (\"[A-Z]\", password):\n",
        "    print(\"Must contain at least one uppercase\")\n",
        "  if not re.search(\"[0-9]\", password):\n",
        "    print(\"Must contain at least one number\")\n",
        "  if not re.search(\"[$#@]\", password):\n",
        "    print(\"Must contain at least one of the characters\")\n",
        "  else:\n",
        "    print(\"Valid password\")\n",
        "\n",
        "password=input(\"Validate your password: \")\n",
        "check_password_valid(password)\n",
        "\n",
        "\n"
      ],
      "execution_count": 8,
      "outputs": [
        {
          "output_type": "stream",
          "name": "stdout",
          "text": [
            "Validate your password: fhbjlk\n",
            "Must contain at least one uppercase\n",
            "Must contain at least one number\n",
            "Must contain at least one of the characters\n"
          ]
        }
      ]
    },
    {
      "cell_type": "markdown",
      "metadata": {
        "id": "f0R4GYTEFQS-"
      },
      "source": [
        "---\n",
        "### Challenge 2 - triangle shape  \n",
        "\n",
        "Write a function called **evaluate_triangle_shape()** which will check if a triangle is equilateral, isosceles or scalene, based on the three side lengths entered by a user (**x**, **y** and **z**.\n",
        "\n",
        "An equilateral triangle is a triangle in which all three sides are equal.\n",
        "A scalene triangle is a triangle that has three unequal sides.\n",
        "An isosceles triangle is a triangle with (at least) two equal sides.\n",
        "\n",
        "For example:  \n",
        "A triange with side lengths                                 \n",
        "x: 6                                                                    \n",
        "y: 8                                                                    \n",
        "z: 12                                                                   \n",
        "is a *Scalene triangle*\n",
        "\n",
        "A triangle with side lengths\n",
        "x:5  \n",
        "y:3   \n",
        "z:5  \n",
        "is an *Isosceles triangle*"
      ]
    },
    {
      "cell_type": "code",
      "metadata": {
        "id": "oBgl4ro1DVL0",
        "colab": {
          "base_uri": "https://localhost:8080/"
        },
        "outputId": "240f19a2-6c39-41bb-8ee9-acceb3bd039e"
      },
      "source": [
        "def evaluate_triangle_shape():\n",
        "  x= int(input(\"x: \"))\n",
        "  y= int(input(\"y: \"))\n",
        "  z= int(input(\"z: \"))\n",
        "  if  x == y == z:\n",
        "    print(\"It is an equilateral triangle\")\n",
        "  elif x == y or y ==z or z==x:\n",
        "    print(\"It is an isosceles triangle\")\n",
        "  else:\n",
        "    print(\"It is a scalene triangle\")\n",
        "evaluate_triangle_shape()\n"
      ],
      "execution_count": 3,
      "outputs": [
        {
          "output_type": "stream",
          "name": "stdout",
          "text": [
            "x: 5\n",
            "y: 3\n",
            "z: 5\n",
            "It is an isosceles triangle\n"
          ]
        }
      ]
    },
    {
      "cell_type": "markdown",
      "metadata": {
        "id": "hr2EotkqG33l"
      },
      "source": [
        "---\n",
        "### Challenge 3 - which season\n",
        "\n",
        "Write a function called **determine_season()** which will ask the user to enter two integers representing a **month** and **day** and prints the season for that month and day.\n",
        "\n",
        "Note:  for this exercise the season dates are:\n",
        "*  Winter December 21 to March 20    \n",
        "*  Spring March 21 to June 20  \n",
        "*  Summer June 21 to September 20  \n",
        "*  Autumn September 21 to December 20\n",
        "\n",
        "Test input:  \n",
        "Input the month (e.g. January, February etc.): 7                     \n",
        "Input the day: 31                                                       \n",
        "\n",
        "Expected output:  \n",
        "Season is summer\n",
        "\n",
        "*Note: this will require multiple and or or operators and you should use brackets to help Python know which operations to do first*  \n",
        "\n",
        "*For an extra challenge you can check that the day is valid for the month*"
      ]
    },
    {
      "cell_type": "code",
      "metadata": {
        "id": "cvbfz8nzG4IL",
        "colab": {
          "base_uri": "https://localhost:8080/"
        },
        "outputId": "ec9f7435-e480-46c8-fb00-b20afc16bc27"
      },
      "source": [
        "def determine_season():\n",
        "  month=input(\"Enter the month: \")\n",
        "  day=int(input(\"Enter the day: \"))\n",
        "  if month in (\"December\", \"January\", \"February\"):\n",
        "    season = \"winter\"\n",
        "  elif month in (\"March\", \"April\", \"May\", \"June\"):\n",
        "    season = \"Spring\"\n",
        "  elif month in (\"July\", \"August\", \"September\"):\n",
        "    season = \"Summer\"\n",
        "  else:\n",
        "    season = \"Autumn\"\n",
        "\n",
        "  if (month == \"December\") and (day > 21):\n",
        "    season=\"Winter\"\n",
        "  elif (month == \"March\") and (day > 21):\n",
        "    season=\"Spring\"\n",
        "  elif (month == \"July\") and (day > 21):\n",
        "    season=\"Summer\"\n",
        "  elif (month == \"October\") and (day > 21):\n",
        "    season=\"Autumn\"\n",
        "  print(\"Season is\" , season)\n",
        "determine_season()"
      ],
      "execution_count": 30,
      "outputs": [
        {
          "output_type": "stream",
          "name": "stdout",
          "text": [
            "Enter the month: October\n",
            "Enter the day: 21\n",
            "Season is Autumn\n"
          ]
        }
      ]
    }
  ]
}