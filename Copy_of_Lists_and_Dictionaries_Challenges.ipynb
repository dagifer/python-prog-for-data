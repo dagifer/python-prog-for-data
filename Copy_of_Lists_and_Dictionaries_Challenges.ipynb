{
  "nbformat": 4,
  "nbformat_minor": 0,
  "metadata": {
    "colab": {
      "provenance": [],
      "include_colab_link": true
    },
    "kernelspec": {
      "name": "python3",
      "display_name": "Python 3"
    },
    "language_info": {
      "name": "python"
    }
  },
  "cells": [
    {
      "cell_type": "markdown",
      "metadata": {
        "id": "view-in-github",
        "colab_type": "text"
      },
      "source": [
        "<a href=\"https://colab.research.google.com/github/dagifer/python-prog-for-data/blob/main/Copy_of_Lists_and_Dictionaries_Challenges.ipynb\" target=\"_parent\"><img src=\"https://colab.research.google.com/assets/colab-badge.svg\" alt=\"Open In Colab\"/></a>"
      ]
    },
    {
      "cell_type": "markdown",
      "metadata": {
        "id": "nEJLJX3J9B2k"
      },
      "source": [
        "# Some challenges to help you become more confident with using Lists, Tuples and Dictionaries\n",
        "\n",
        "---\n",
        "\n"
      ]
    },
    {
      "cell_type": "markdown",
      "metadata": {
        "id": "JvV6htgh9Nc1"
      },
      "source": [
        "### Exercise 1 - extending a list\n",
        "\n",
        "There are three ways to extend a list in Python:  \n",
        "*  use `list_name.append(item)`, `list_name.insert(item)`\n",
        "*  concatenate two lists using the + operator (e.g. new_list = list1 + list2)\n",
        "*  use `list1_name.extend(list2_name)`\n",
        "\n",
        "The last method allows us to add all the `list2` items onto `list1` and for the new, extended list to now be `list1`.  `list2` will always be added to the end of `list1`.  \n",
        "\n",
        "If the objective is to add list2 before list1 then use `list2.extend(list1)`\n",
        "\n",
        "Write a function which will:  \n",
        "*  create a list of **years** containing the years 1960, 1970, 1980, 1990, 2000  \n",
        "*  print the list of years  \n",
        "*  calculate how long ago each year was and print the year and how long ago it was (e.g. 1990 was 30 years ago)  *(Hint:  use the datetime library to get the current year)*   \n",
        "*  create a second list, **years2** containing the years 2010 and 2020, extend `years` to include these later years\n",
        "*  create a third list, **years3** containing the years 1930, 1940 and 1950 and extend the list to include all the years between 1930 and 2020\n",
        "*  print the final list\n",
        "\n",
        "Expected output:  \n",
        "[1960, 1970, 1980, 1990]  \n",
        "1960 was 61 years ago  \n",
        "1970 was 51 years ago  \n",
        "1980 was 41 years ago  \n",
        "1990 was 31 years ago  \n",
        "2000 was 21 years ago  \n",
        "[1930, 1940, 1950, 1960, 1970, 1980, 1990, 2000, 2010, 2020]"
      ]
    },
    {
      "cell_type": "code",
      "metadata": {
        "id": "QAyTVqoO8-08",
        "colab": {
          "base_uri": "https://localhost:8080/"
        },
        "outputId": "d918c19b-93a8-4b6c-9a76-1c2e4f44b4c8"
      },
      "source": [
        "from datetime import datetime\n",
        "def extend_list(year):\n",
        "\n",
        "  current_year=datetime.now().year\n",
        "  years_ago=current_year-year\n",
        "  return years_ago\n",
        "\n",
        "def contain_year():\n",
        "  year_list=[1960, 1970, 1980, 1990, 2000]\n",
        "  print(year_list)\n",
        "\n",
        "  for year in year_list:\n",
        "    years_ago= extend_list(year)\n",
        "    print(f\"{years_ago} {year}\")\n",
        "\n",
        "  years2=[2010, 2020]\n",
        "  year_list.extend(years2)\n",
        "  print(year_list)\n",
        "\n",
        "  years3=list(range(1930, 2030,10))\n",
        "  year_list.extend(years3)\n",
        "  print(years3)\n",
        "contain_year()\n",
        "\n",
        "\n",
        "\n",
        "\n"
      ],
      "execution_count": null,
      "outputs": [
        {
          "output_type": "stream",
          "name": "stdout",
          "text": [
            "[1960, 1970, 1980, 1990, 2000]\n",
            "63 1960\n",
            "53 1970\n",
            "43 1980\n",
            "33 1990\n",
            "23 2000\n",
            "[1960, 1970, 1980, 1990, 2000, 2010, 2020]\n",
            "[1930, 1940, 1950, 1960, 1970, 1980, 1990, 2000, 2010, 2020]\n"
          ]
        }
      ]
    },
    {
      "cell_type": "markdown",
      "metadata": {
        "id": "S5iPicFzBzOW"
      },
      "source": [
        "---\n",
        "### Exercise 2 - creating a dictionary from a tuple and three lists\n",
        "\n",
        "Write a function which will create a list of dictionary items using the values in a tuple as the dictionary keys and the values in three corresponding lists as the dictionary values.\n",
        "\n",
        "*  loop through the status items in the tuple called task_status\n",
        "*  for each status, loop through the list with the same name (*Hint:  you can use eval(status) to access the list with the matching name  e.g. for task in eval(status)* )\n",
        "*  each time round this second loop, create a dictionary object with the  key:value pair {status : task}\n",
        "*  add each new dictionary to a list called **project_board** that was created as an empty list before the loops  \n",
        "*  print the project_board list\n",
        "\n",
        "Expected output:  \n",
        "\n",
        "[{'assigned': 'task1'}, {'assigned': 'task2'}, {'assigned': 'task3'}, {'inprogress': 'task4'}, {'inprogress': 'task5'}, {'inprogress': 'task6'}, {'completed': 'task7'}, {'completed': 'task8'}, {'completed': 'task9'}]\n",
        "\n"
      ]
    },
    {
      "cell_type": "code",
      "metadata": {
        "id": "KXYOSHY-C7m4",
        "colab": {
          "base_uri": "https://localhost:8080/"
        },
        "outputId": "1aa5f423-3bf8-4352-8fea-bbda3b9b9bb2"
      },
      "source": [
        "def create_project_board():\n",
        "  task_status = (\"assigned\", \"inprogress\", \"completed\")\n",
        "  assigned = ['task1','task2','task3']\n",
        "  inprogress = ['task4','task5','task6']\n",
        "  completed = ['task7','task8','task9']\n",
        "  #  add your code below here\n",
        "  project_board=[]\n",
        "  for status in task_status:\n",
        "    for task in eval(status):\n",
        "      project_board.append({status:task})\n",
        "  return project_board\n",
        "  print(project_board)\n",
        "\n",
        "\n",
        "\n",
        "create_project_board()\n"
      ],
      "execution_count": null,
      "outputs": [
        {
          "output_type": "execute_result",
          "data": {
            "text/plain": [
              "[{'assigned': 'task1'},\n",
              " {'assigned': 'task2'},\n",
              " {'assigned': 'task3'},\n",
              " {'inprogress': 'task4'},\n",
              " {'inprogress': 'task5'},\n",
              " {'inprogress': 'task6'},\n",
              " {'completed': 'task7'},\n",
              " {'completed': 'task8'},\n",
              " {'completed': 'task9'}]"
            ]
          },
          "metadata": {},
          "execution_count": 33
        }
      ]
    },
    {
      "cell_type": "markdown",
      "metadata": {
        "id": "M1BuTu9p19Ma"
      },
      "source": [
        "---\n",
        "### Exercise 3 - names and heights\n",
        "\n",
        "Write a function which will allow a user to enter the names and heights of a set of people and add each set of information as a record (dictionary) to a list. The function will stop collecting names and heights when the user enters \"STOP\" as the name.\n",
        "\n",
        "Then, the function will:  \n",
        "\n",
        "*   produce a list of names in order of the shortest person to the tallest\n",
        "*   calculate the name of the tallest person\n",
        "*   calculate the name of the shortest person\n",
        "*   calculate the average height\n",
        "*   calculate the name of the person who is closest to the average height\n",
        "\n",
        "\n",
        "\n",
        "\n"
      ]
    },
    {
      "cell_type": "code",
      "metadata": {
        "id": "reuyww3e18uv",
        "colab": {
          "base_uri": "https://localhost:8080/"
        },
        "outputId": "11ebc04a-7d2b-4f46-9f83-7f89fc73b3d5"
      },
      "source": [
        "def names_heights():\n",
        "  set_of_people=[]\n",
        "  while True:\n",
        "    name=input(\"Enter your name or STOP to finish: \")\n",
        "    if name.upper()==\"STOP\":\n",
        "      break\n",
        "    height=float(input(\"Enter your height cm: \"))\n",
        "    person_details={\"name\":name, \"height\": height}\n",
        "    set_of_people.append(person_details)\n",
        "  return set_of_people\n",
        "\n",
        "people_data=names_heights()\n",
        "\n",
        "def list_names(set_of_people):\n",
        "  info_height=sorted(set_of_people, key=lambda x: x[\"height\"])\n",
        "\n",
        "  tall_people=info_height[-1][\"name\"]\n",
        "  short_people=info_height[0][\"name\"]\n",
        "\n",
        "  total_height=sum([person[\"height\"] for person in set_of_people])\n",
        "\n",
        "  average_height=total_height/len(set_of_people)\n",
        "\n",
        "  closest_average=min(set_of_people, key=lambda x: abs(x[\"height\"]-average_height))[\"name\"]\n",
        "\n",
        "\n",
        "  print(tall_people)\n",
        "  print(short_people)\n",
        "  print(closest_average)\n",
        "\n",
        "list_names(people_data)\n"
      ],
      "execution_count": 2,
      "outputs": [
        {
          "output_type": "stream",
          "name": "stdout",
          "text": [
            "Enter your name or STOP to finish: Rocio\n",
            "Enter your height cm: 1.54\n",
            "Enter your name or STOP to finish: Tomass\n",
            "Enter your height cm: 1.87\n",
            "Enter your name or STOP to finish: Fulvio\n",
            "Enter your height cm: 1.98\n",
            "Enter your name or STOP to finish: stop\n",
            "Fulvio\n",
            "Rocio\n",
            "Tomass\n"
          ]
        }
      ]
    }
  ]
}